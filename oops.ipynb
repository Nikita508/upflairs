{
 "cells": [
  {
   "cell_type": "code",
   "execution_count": 1,
   "metadata": {},
   "outputs": [],
   "source": [
    "class Student:\n",
    "    name=['rahul','appu','kapil']\n",
    "    branch='computer science engineering'\n",
    "    college='IET Lucknow'\n",
    "\n"
   ]
  },
  {
   "cell_type": "code",
   "execution_count": 11,
   "metadata": {},
   "outputs": [],
   "source": [
    "stu_obj=Student() # object making or instance\n"
   ]
  },
  {
   "cell_type": "code",
   "execution_count": 7,
   "metadata": {},
   "outputs": [
    {
     "name": "stdout",
     "output_type": "stream",
     "text": [
      "['rahul', 'appu', 'kapil']\n"
     ]
    }
   ],
   "source": [
    "stu_obj.name\n",
    "print(stu_obj.name)"
   ]
  },
  {
   "cell_type": "code",
   "execution_count": 9,
   "metadata": {},
   "outputs": [],
   "source": [
    "stu_obj.branch=\"IT\""
   ]
  },
  {
   "cell_type": "code",
   "execution_count": 10,
   "metadata": {},
   "outputs": [
    {
     "data": {
      "text/plain": [
       "'IT'"
      ]
     },
     "execution_count": 10,
     "metadata": {},
     "output_type": "execute_result"
    }
   ],
   "source": [
    "stu_obj.branch"
   ]
  },
  {
   "cell_type": "code",
   "execution_count": 12,
   "metadata": {},
   "outputs": [],
   "source": [
    "stu_obj.college=\"GWECA\""
   ]
  },
  {
   "cell_type": "code",
   "execution_count": 13,
   "metadata": {},
   "outputs": [
    {
     "data": {
      "text/plain": [
       "'GWECA'"
      ]
     },
     "execution_count": 13,
     "metadata": {},
     "output_type": "execute_result"
    }
   ],
   "source": [
    "stu_obj.college"
   ]
  },
  {
   "cell_type": "code",
   "execution_count": 2,
   "metadata": {},
   "outputs": [],
   "source": [
    "var ='Rohit kumar'"
   ]
  },
  {
   "cell_type": "code",
   "execution_count": 3,
   "metadata": {},
   "outputs": [
    {
     "name": "stdout",
     "output_type": "stream",
     "text": [
      "Rohit kumar\n"
     ]
    }
   ],
   "source": [
    "print(var)"
   ]
  },
  {
   "cell_type": "code",
   "execution_count": 39,
   "metadata": {},
   "outputs": [],
   "source": [
    "class ListFunction:\n",
    "    ls=[25,41,63,74,96,112,113,117,75,963,42,14,52]  # fing len without using len func\n",
    "    #def len_find(self):\n",
    "        #count=0       #object got assign to object while calling ,obj. is passed in self,and we have accessed list in this\n",
    "        #for item  in self.ls:\n",
    "            #count+=1\n",
    "        ##print(count) \n",
    "    def average_finder(self):\n",
    "        sum=0\n",
    "        \n",
    "        for i in self.ls:\n",
    "            sum+=i\n",
    "        print(sum)\n",
    "        count=0\n",
    "        for i in self.ls:\n",
    "           count+=1\n",
    "        \n",
    "        print(count)\n",
    "        average=sum/count\n",
    "        print(average)  \n",
    "        def average_finder(self):\n",
    "           totalsum=0\n",
    "        \n",
    "           for i in self.ls:\n",
    "               if i%2==0:\n",
    "                  totalsum+=i\n",
    "           print(totalsum)\n",
    "           totalcount=0\n",
    "           for i in self.ls:\n",
    "                if i%2==0:\n",
    "                 totalcount+=1\n",
    "        \n",
    "        print(count)\n",
    "        average=sum/count\n",
    "        print(average)\n",
    "        ls = [25,41,63,85,74,96,112,113,117,75,963,42,14,52,77,88,55,66,33,22,11,44,55,88,99,66,74,52,1]\n",
    "    \n",
    "        def average_finder(self):\n",
    "           totalsum=0\n",
    "        \n",
    "           for i in self.ls:\n",
    "               if i%2!=0:\n",
    "                  totalsum+=i\n",
    "           print(totalsum)\n",
    "           totalcount=0\n",
    "           for i in self.ls:\n",
    "                if i%2!=0:\n",
    "                 totalcount+=1\n",
    "        \n",
    "        print(count)\n",
    "        average=sum/count\n",
    "        print(average)\n",
    "    def between(self):\n",
    "        sum1=0\n",
    "        for i in self.ls:\n",
    "            if i>50 and i<100:\n",
    "               if i%2==0:\n",
    "                sum1+=i\n",
    "        count1=0\n",
    "        for i in self.ls:\n",
    "            if i>50 and i<100:\n",
    "               if i%2==0:\n",
    "                count+=1\n",
    "                print(sum1)\n",
    "                print(count1)\n",
    "        average=sum1/count1\n",
    "        print(average)\n",
    "        average = total_sum/count\n",
    "        print(\"Your average is : \",round(average,2)\n",
    "        \n",
    "          #we can roundoff using round(average,2)  \n",
    "        "
   ]
  },
  {
   "cell_type": "code",
   "execution_count": null,
   "metadata": {},
   "outputs": [],
   "source": []
  },
  {
   "cell_type": "code",
   "execution_count": 40,
   "metadata": {},
   "outputs": [],
   "source": [
    "obj=ListFunction()"
   ]
  },
  {
   "cell_type": "code",
   "execution_count": 37,
   "metadata": {},
   "outputs": [
    {
     "data": {
      "text/plain": [
       "[25, 41, 63, 74, 96]"
      ]
     },
     "execution_count": 37,
     "metadata": {},
     "output_type": "execute_result"
    }
   ],
   "source": [
    "obj.ls"
   ]
  },
  {
   "cell_type": "code",
   "execution_count": 38,
   "metadata": {},
   "outputs": [
    {
     "name": "stdout",
     "output_type": "stream",
     "text": [
      "5\n"
     ]
    }
   ],
   "source": [
    "obj.len_find()"
   ]
  },
  {
   "cell_type": "code",
   "execution_count": 41,
   "metadata": {},
   "outputs": [
    {
     "name": "stdout",
     "output_type": "stream",
     "text": [
      "1787\n",
      "13\n",
      "137.46153846153845\n"
     ]
    }
   ],
   "source": [
    "obj.average_finder()"
   ]
  },
  {
   "cell_type": "code",
   "execution_count": 42,
   "metadata": {},
   "outputs": [],
   "source": [
    "#CONSTRUCTOR\n",
    "class Student: \n",
    "    name=\"rahul\" # class variable\n",
    "     # instance variable\n",
    "    def __init__(self): \n",
    "        self.student_name=\"mohit kumar\"\n",
    "        self.branch=\"CSE\"\n",
    "        self.college=\"GIT\"\n",
    "        ### "
   ]
  },
  {
   "cell_type": "code",
   "execution_count": 57,
   "metadata": {},
   "outputs": [],
   "source": [
    "object1=Student()\n",
    "object2=Student()\n",
    "object4=Student()\n"
   ]
  },
  {
   "cell_type": "code",
   "execution_count": 49,
   "metadata": {},
   "outputs": [
    {
     "data": {
      "text/plain": [
       "'rahul'"
      ]
     },
     "execution_count": 49,
     "metadata": {},
     "output_type": "execute_result"
    }
   ],
   "source": [
    "object1.name"
   ]
  },
  {
   "cell_type": "code",
   "execution_count": 51,
   "metadata": {},
   "outputs": [],
   "source": [
    "object2.name='varshit'  # the change in value of attribute is only changed for object2"
   ]
  },
  {
   "cell_type": "code",
   "execution_count": 47,
   "metadata": {},
   "outputs": [
    {
     "data": {
      "text/plain": [
       "'rahul'"
      ]
     },
     "execution_count": 47,
     "metadata": {},
     "output_type": "execute_result"
    }
   ],
   "source": [
    "Student.name  # we can access class variable with class name also"
   ]
  },
  {
   "cell_type": "code",
   "execution_count": null,
   "metadata": {},
   "outputs": [],
   "source": [
    "object1.name='varshit2'"
   ]
  },
  {
   "cell_type": "code",
   "execution_count": 54,
   "metadata": {},
   "outputs": [
    {
     "data": {
      "text/plain": [
       "'rahul'"
      ]
     },
     "execution_count": 54,
     "metadata": {},
     "output_type": "execute_result"
    }
   ],
   "source": [
    "object1.name"
   ]
  },
  {
   "cell_type": "code",
   "execution_count": 55,
   "metadata": {},
   "outputs": [
    {
     "data": {
      "text/plain": [
       "'rahul'"
      ]
     },
     "execution_count": 55,
     "metadata": {},
     "output_type": "execute_result"
    }
   ],
   "source": [
    "object2.name"
   ]
  },
  {
   "cell_type": "code",
   "execution_count": 58,
   "metadata": {},
   "outputs": [],
   "source": [
    "Student.name='dharam'"
   ]
  },
  {
   "cell_type": "code",
   "execution_count": 59,
   "metadata": {},
   "outputs": [
    {
     "data": {
      "text/plain": [
       "'dharam'"
      ]
     },
     "execution_count": 59,
     "metadata": {},
     "output_type": "execute_result"
    }
   ],
   "source": [
    "object4.name"
   ]
  },
  {
   "cell_type": "code",
   "execution_count": 99,
   "metadata": {},
   "outputs": [],
   "source": [
    "#CONSTRUCTOR\n",
    "class Student:\n",
    "    name=\"rahul\" # class variable\n",
    "     # instance variable\n",
    "    def __init__(self,name,student_branch,student_college): \n",
    "        self.student_name=name\n",
    "        self.branch=student_branch\n",
    "        self.college=student_college  # constructor  do not need to call constructor will get call automativally\n",
    "        print(\"im executed\")"
   ]
  },
  {
   "cell_type": "code",
   "execution_count": 75,
   "metadata": {},
   "outputs": [
    {
     "name": "stdout",
     "output_type": "stream",
     "text": [
      "im executed\n"
     ]
    }
   ],
   "source": [
    "object9=Student('rahul','it','git')"
   ]
  },
  {
   "cell_type": "code",
   "execution_count": 76,
   "metadata": {},
   "outputs": [
    {
     "data": {
      "text/plain": [
       "'rahul'"
      ]
     },
     "execution_count": 76,
     "metadata": {},
     "output_type": "execute_result"
    }
   ],
   "source": [
    "object9.student_name"
   ]
  },
  {
   "cell_type": "code",
   "execution_count": 100,
   "metadata": {},
   "outputs": [
    {
     "name": "stdout",
     "output_type": "stream",
     "text": [
      "im executed\n"
     ]
    }
   ],
   "source": [
    "obje=Student('niki','chemical_engi','gweca')"
   ]
  },
  {
   "cell_type": "code",
   "execution_count": 96,
   "metadata": {},
   "outputs": [
    {
     "data": {
      "text/plain": [
       "'niki'"
      ]
     },
     "execution_count": 96,
     "metadata": {},
     "output_type": "execute_result"
    }
   ],
   "source": [
    "obje.student_name"
   ]
  },
  {
   "cell_type": "code",
   "execution_count": 101,
   "metadata": {},
   "outputs": [
    {
     "data": {
      "text/plain": [
       "'chemical_engi'"
      ]
     },
     "execution_count": 101,
     "metadata": {},
     "output_type": "execute_result"
    }
   ],
   "source": [
    "obje.branch"
   ]
  },
  {
   "cell_type": "code",
   "execution_count": 68,
   "metadata": {},
   "outputs": [
    {
     "name": "stdout",
     "output_type": "stream",
     "text": [
      "im executed\n",
      "im executed\n"
     ]
    }
   ],
   "source": [
    "object5=Student()\n",
    "object6=Student()\n",
    "object7=Student()"
   ]
  },
  {
   "cell_type": "code",
   "execution_count": 67,
   "metadata": {},
   "outputs": [
    {
     "data": {
      "text/plain": [
       "'mohit kumar'"
      ]
     },
     "execution_count": 67,
     "metadata": {},
     "output_type": "execute_result"
    }
   ],
   "source": [
    "object5.student_name"
   ]
  },
  {
   "cell_type": "code",
   "execution_count": 69,
   "metadata": {},
   "outputs": [
    {
     "data": {
      "text/plain": [
       "'mohit kumar'"
      ]
     },
     "execution_count": 69,
     "metadata": {},
     "output_type": "execute_result"
    }
   ],
   "source": [
    "object2.student_name"
   ]
  },
  {
   "cell_type": "code",
   "execution_count": null,
   "metadata": {},
   "outputs": [],
   "source": [
    "# class 1=student\n",
    "#class2=faculty\n",
    "  # class variable\n",
    "  # constructor\n",
    "  # multiple object value access and manipulation\n",
    "  # soinfo # this method will print instance variable\n",
    "  # print(instance vriables)"
   ]
  },
  {
   "cell_type": "code",
   "execution_count": null,
   "metadata": {},
   "outputs": [],
   "source": [
    "class Student:\n",
    "    name=\"rahul\" # class variable\n",
    "     # instance variable\n",
    "    def __init__(self,name,student_branch,student_college): \n",
    "        self.student_name=name\n",
    "        self.branch=student_branch\n",
    "        self.college=student_college  # constructor  do not need to call constructor will get call automativally\n",
    "        print(\"im executed\")"
   ]
  },
  {
   "cell_type": "code",
   "execution_count": 30,
   "metadata": {},
   "outputs": [],
   "source": [
    "class Faculty:\n",
    "    name=\"Arushi\"\n",
    "    \n",
    "    def __init__(self,subject,salary):\n",
    "        self.Faculty_subj=subject\n",
    "        self.Faculty_salary=salary\n",
    "    def info(self):\n",
    "        print( self.Faculty_subj)\n",
    "        print(self.Faculty_salary)\n",
    "        \n",
    "       "
   ]
  },
  {
   "cell_type": "code",
   "execution_count": 31,
   "metadata": {},
   "outputs": [],
   "source": [
    "object=Faculty('maths',30000)\n",
    "object1=Faculty('science',40000)"
   ]
  },
  {
   "cell_type": "code",
   "execution_count": 32,
   "metadata": {},
   "outputs": [
    {
     "name": "stdout",
     "output_type": "stream",
     "text": [
      "maths\n",
      "30000\n"
     ]
    }
   ],
   "source": [
    "object.info()"
   ]
  },
  {
   "cell_type": "code",
   "execution_count": 33,
   "metadata": {},
   "outputs": [
    {
     "name": "stdout",
     "output_type": "stream",
     "text": [
      "science\n",
      "40000\n"
     ]
    }
   ],
   "source": [
    "object1.info()"
   ]
  },
  {
   "cell_type": "code",
   "execution_count": 20,
   "metadata": {},
   "outputs": [],
   "source": [
    "object1.subject='science'"
   ]
  },
  {
   "cell_type": "code",
   "execution_count": 11,
   "metadata": {},
   "outputs": [
    {
     "data": {
      "text/plain": [
       "'maths'"
      ]
     },
     "execution_count": 11,
     "metadata": {},
     "output_type": "execute_result"
    }
   ],
   "source": [
    "object.Faculty_subj"
   ]
  },
  {
   "cell_type": "code",
   "execution_count": 14,
   "metadata": {},
   "outputs": [
    {
     "data": {
      "text/plain": [
       "30000"
      ]
     },
     "execution_count": 14,
     "metadata": {},
     "output_type": "execute_result"
    }
   ],
   "source": [
    "object.Faculty_salary"
   ]
  },
  {
   "cell_type": "code",
   "execution_count": 4,
   "metadata": {},
   "outputs": [
    {
     "data": {
      "text/plain": [
       "'Arushi'"
      ]
     },
     "execution_count": 4,
     "metadata": {},
     "output_type": "execute_result"
    }
   ],
   "source": [
    "object.name"
   ]
  },
  {
   "cell_type": "code",
   "execution_count": 24,
   "metadata": {},
   "outputs": [],
   "source": [
    "Faculty.name='pragati'"
   ]
  },
  {
   "cell_type": "code",
   "execution_count": 25,
   "metadata": {},
   "outputs": [
    {
     "data": {
      "text/plain": [
       "'pragati'"
      ]
     },
     "execution_count": 25,
     "metadata": {},
     "output_type": "execute_result"
    }
   ],
   "source": [
    "object.name"
   ]
  },
  {
   "cell_type": "code",
   "execution_count": 9,
   "metadata": {},
   "outputs": [],
   "source": [
    "class Faculty:\n",
    "    college_name=\"GWECA\"\n",
    "    total_staff=200\n",
    "class Student(Faculty):\n",
    "    total_student=5000\n",
    "    branch=\"cse\""
   ]
  },
  {
   "cell_type": "code",
   "execution_count": 10,
   "metadata": {},
   "outputs": [
    {
     "data": {
      "text/plain": [
       "'GWECA'"
      ]
     },
     "execution_count": 10,
     "metadata": {},
     "output_type": "execute_result"
    }
   ],
   "source": [
    "Faculty_object=Faculty()\n",
    "Faculty_object.college_name"
   ]
  },
  {
   "cell_type": "code",
   "execution_count": 11,
   "metadata": {},
   "outputs": [
    {
     "data": {
      "text/plain": [
       "200"
      ]
     },
     "execution_count": 11,
     "metadata": {},
     "output_type": "execute_result"
    }
   ],
   "source": [
    "Student_obj=Student()\n",
    "Student_obj.total_staff"
   ]
  },
  {
   "cell_type": "code",
   "execution_count": 12,
   "metadata": {},
   "outputs": [],
   "source": [
    "#nheritance without constructor\n",
    "class Faculty:\n",
    "    college_name=\"GWECA\"\n",
    "    total_stuff=200\n",
    "class Student(Faculty): # we have inherit the faculty class from student class\n",
    "    total_student=5000\n",
    "    branch =\"cse\""
   ]
  },
  {
   "cell_type": "code",
   "execution_count": 13,
   "metadata": {},
   "outputs": [],
   "source": [
    "object=Student()"
   ]
  },
  {
   "cell_type": "code",
   "execution_count": 15,
   "metadata": {},
   "outputs": [
    {
     "ename": "AttributeError",
     "evalue": "'Student' object has no attribute 'total_staff'",
     "output_type": "error",
     "traceback": [
      "\u001b[1;31m---------------------------------------------------------------------------\u001b[0m",
      "\u001b[1;31mAttributeError\u001b[0m                            Traceback (most recent call last)",
      "Cell \u001b[1;32mIn[15], line 1\u001b[0m\n\u001b[1;32m----> 1\u001b[0m \u001b[38;5;28;43mobject\u001b[39;49m\u001b[38;5;241;43m.\u001b[39;49m\u001b[43mtotal_staff\u001b[49m\n",
      "\u001b[1;31mAttributeError\u001b[0m: 'Student' object has no attribute 'total_staff'"
     ]
    }
   ],
   "source": [
    "object.total_staff"
   ]
  },
  {
   "cell_type": "code",
   "execution_count": 24,
   "metadata": {},
   "outputs": [],
   "source": [
    "class Father: # single inheritance with constructor\n",
    "    def __init__(self,father_name,father_age):\n",
    "        self.father_name=father_name\n",
    "        self.father_age=father_age\n",
    "        print(\"father construction executed\")\n",
    "        \n",
    "        #instance method\n",
    "        def father_hii(self):\n",
    "            print(\"my father name is:\",self.father_name)\n",
    "            print(\"age is:\",self.father_age)\n",
    "class Son(Father):\n",
    "    def __init__(self,son_name,son_age):\n",
    "        self.son_name=son_name\n",
    "        self.son_age=son_age\n",
    "        super().__init__(father_name,father_age)  # super class constructor calling\n",
    "        print(\"son class constructor executed\")\n",
    "    def Son_hii(self):\n",
    "        print(\"son_name:\",self.son_name)\n",
    "        print(\"Son_age:\",self.son_age)\n",
    "        "
   ]
  },
  {
   "cell_type": "code",
   "execution_count": null,
   "metadata": {},
   "outputs": [],
   "source": [
    "object_son=Son('rohit',12)\n",
    "object_son.father_hii"
   ]
  },
  {
   "cell_type": "code",
   "execution_count": 12,
   "metadata": {},
   "outputs": [],
   "source": [
    "father_obj=Father('ram singh',67)\n"
   ]
  },
  {
   "cell_type": "code",
   "execution_count": 22,
   "metadata": {},
   "outputs": [
    {
     "name": "stdout",
     "output_type": "stream",
     "text": [
      "son_name: arjun\n",
      "Son_age: 14\n"
     ]
    }
   ],
   "source": [
    "object=Son(son_name='arjun',son_age=14)\n",
    "object.Son_hii()"
   ]
  },
  {
   "cell_type": "code",
   "execution_count": 23,
   "metadata": {},
   "outputs": [
    {
     "ename": "AttributeError",
     "evalue": "'Son' object has no attribute 'Father_hii'",
     "output_type": "error",
     "traceback": [
      "\u001b[1;31m---------------------------------------------------------------------------\u001b[0m",
      "\u001b[1;31mAttributeError\u001b[0m                            Traceback (most recent call last)",
      "Cell \u001b[1;32mIn[23], line 1\u001b[0m\n\u001b[1;32m----> 1\u001b[0m \u001b[38;5;28;43mobject\u001b[39;49m\u001b[38;5;241;43m.\u001b[39;49m\u001b[43mFather_hii\u001b[49m()\n",
      "\u001b[1;31mAttributeError\u001b[0m: 'Son' object has no attribute 'Father_hii'"
     ]
    }
   ],
   "source": [
    "object.Father_hii()"
   ]
  },
  {
   "cell_type": "code",
   "execution_count": 38,
   "metadata": {},
   "outputs": [],
   "source": [
    "class Father: \n",
    "    def __init__(self,father_name,father_age): \n",
    "        self.father_name = father_name\n",
    "        self.father_age = father_age\n",
    "        print('father constructor executed')\n",
    "\n",
    "    #instace method \n",
    "    def father_hii(self):\n",
    "        print(\"My father name is : \",self.father_name)\n",
    "        print(\"AGE is : \",self.father_age)\n",
    "\n",
    "\n",
    "class Son(Father): \n",
    "    def __init__(self,son_name,son_age,father_name,father_age):\n",
    "        self.son_name = son_name\n",
    "        self.son_age = son_age\n",
    "        super().__init__(father_name,father_age)   # super class constructor \n",
    "        print('son constructor executor')\n",
    "        \n",
    "    def son_hii(self):\n",
    "        print(\"Son name : \",self.son_name)\n",
    "        print(\"Son age : \",self.son_age)\n",
    "        "
   ]
  },
  {
   "cell_type": "code",
   "execution_count": 39,
   "metadata": {},
   "outputs": [
    {
     "name": "stdout",
     "output_type": "stream",
     "text": [
      "father constructor executed\n",
      "son constructor executor\n",
      "Son name :  ramu\n",
      "Son age :  12\n",
      "My father name is :  ram\n",
      "AGE is :  46\n"
     ]
    }
   ],
   "source": [
    "son_obj=Son(son_name='ramu',son_age=12,father_name='ram',father_age=46)\n",
    "son_obj.son_hii()\n",
    "son_obj.father_hii()"
   ]
  },
  {
   "cell_type": "code",
   "execution_count": 53,
   "metadata": {},
   "outputs": [],
   "source": [
    "class Manager:\n",
    "    def __init__(self,manager_id,manager_pass):\n",
    "       self.manager_id=manager_id\n",
    "       self.manager_pass=manager_pass\n",
    "       \n",
    "    def manager_hii(self):\n",
    "       print(\"manager id is\",self.manager_id)\n",
    "       print(\"manager password is\",self.manager_pass)\n",
    "       print(\"super class constructor\")\n",
    "       \n",
    "class Employee(Manager):\n",
    "   def __init__(self,employee_id,employee_pass,manager_id,manager_pass):\n",
    "       self.employee_id=employee_id\n",
    "       self.employee_pass=employee_pass\n",
    "       super().__init__(manager_id,manager_pass)   # super class constructor \n",
    "       print(\"base class constructor\")\n",
    "   def employee_hii(self):\n",
    "       print(\"employee id is\",self.employee_id)\n",
    "       print(\"employee password is\",self.employee_pass)\n",
    "       "
   ]
  },
  {
   "cell_type": "code",
   "execution_count": 54,
   "metadata": {},
   "outputs": [
    {
     "name": "stdout",
     "output_type": "stream",
     "text": [
      "base class constructor\n",
      "employee id is 12\n",
      "employee password is abcd\n",
      "manager id is 34\n",
      "manager password is erty\n",
      "super class constructor\n"
     ]
    }
   ],
   "source": [
    "object=Employee(employee_id=12,employee_pass='abcd',manager_id=34,manager_pass='erty')\n",
    "object.employee_hii()\n",
    "object.manager_hii()"
   ]
  },
  {
   "cell_type": "code",
   "execution_count": 7,
   "metadata": {},
   "outputs": [],
   "source": [
    "class Friend:\n",
    "    def __init__(self,friend_name,friend_age):\n",
    "        self.friend_name=friend_name\n",
    "        self.friend_age=friend_age\n",
    "        \n",
    "    def friend_hello(self):\n",
    "        print(\"friend name is\",self.friend_name)\n",
    "        print(\"friend age is\",self.friend_age)\n",
    "        print(\"base class constructor\")\n",
    "        \n",
    "class Best_friend(Friend):\n",
    "    def __init__(self,best_friend_name,best_friend_age,friend_name,friend_age):\n",
    "        self.best_friend_name=best_friend_name\n",
    "        self.best_friend_age=best_friend_age\n",
    "        super().__init__(friend_name,friend_age)\n",
    "    def best_friend_hello(self):\n",
    "        print(\"best_friend name is\",self.best_friend_name)\n",
    "        print(\"best_friend age is\",self.best_friend_age)\n",
    "        \n",
    "        print(\"base class constructor\")\n",
    "        "
   ]
  },
  {
   "cell_type": "code",
   "execution_count": 10,
   "metadata": {},
   "outputs": [
    {
     "ename": "TypeError",
     "evalue": "Best_friend.__init__() missing 1 required positional argument: 'friend_age'",
     "output_type": "error",
     "traceback": [
      "\u001b[1;31m---------------------------------------------------------------------------\u001b[0m",
      "\u001b[1;31mTypeError\u001b[0m                                 Traceback (most recent call last)",
      "Cell \u001b[1;32mIn[10], line 1\u001b[0m\n\u001b[1;32m----> 1\u001b[0m \u001b[38;5;28mobject\u001b[39m\u001b[38;5;241m=\u001b[39m\u001b[43mBest_friend\u001b[49m\u001b[43m(\u001b[49m\u001b[43mbest_friend_name\u001b[49m\u001b[38;5;241;43m=\u001b[39;49m\u001b[38;5;124;43m'\u001b[39;49m\u001b[38;5;124;43mharshita\u001b[39;49m\u001b[38;5;124;43m'\u001b[39;49m\u001b[43m,\u001b[49m\u001b[43mbest_friend_age\u001b[49m\u001b[38;5;241;43m=\u001b[39;49m\u001b[38;5;241;43m21\u001b[39;49m\u001b[43m,\u001b[49m\u001b[43mfriend_name\u001b[49m\u001b[38;5;241;43m=\u001b[39;49m\u001b[38;5;124;43m'\u001b[39;49m\u001b[38;5;124;43maman\u001b[39;49m\u001b[38;5;124;43m'\u001b[39;49m\u001b[43m)\u001b[49m\n\u001b[0;32m      2\u001b[0m \u001b[38;5;28mobject\u001b[39m\u001b[38;5;241m.\u001b[39mfriend_hello()\n\u001b[0;32m      3\u001b[0m \u001b[38;5;28mobject\u001b[39m\u001b[38;5;241m.\u001b[39mbest_friend_hello()\n",
      "\u001b[1;31mTypeError\u001b[0m: Best_friend.__init__() missing 1 required positional argument: 'friend_age'"
     ]
    }
   ],
   "source": [
    "object=Best_friend(best_friend_name='harshita',best_friend_age=21,friend_name='aman',friend_age=21)\n",
    "object.friend_hello()\n",
    "object.best_friend_hello()\n"
   ]
  },
  {
   "cell_type": "code",
   "execution_count": 6,
   "metadata": {},
   "outputs": [
    {
     "ename": "AttributeError",
     "evalue": "'Best_friend' object has no attribute 'Best_friend_hello'",
     "output_type": "error",
     "traceback": [
      "\u001b[1;31m---------------------------------------------------------------------------\u001b[0m",
      "\u001b[1;31mAttributeError\u001b[0m                            Traceback (most recent call last)",
      "Cell \u001b[1;32mIn[6], line 1\u001b[0m\n\u001b[1;32m----> 1\u001b[0m \u001b[38;5;28;43mobject\u001b[39;49m\u001b[38;5;241;43m.\u001b[39;49m\u001b[43mBest_friend_hello\u001b[49m()\n",
      "\u001b[1;31mAttributeError\u001b[0m: 'Best_friend' object has no attribute 'Best_friend_hello'"
     ]
    }
   ],
   "source": [
    "object.Best_friend_hello()"
   ]
  },
  {
   "cell_type": "code",
   "execution_count": 4,
   "metadata": {},
   "outputs": [],
   "source": [
    "class Tom:\n",
    "    def __init__(self,tom_time,tom_expression):\n",
    "        self.tom_time=tom_time\n",
    "        self.tom_expression=tom_expression\n",
    "    def Tom_telecast(self):\n",
    "        print(\"tom timing is\",self.tom_time)\n",
    "        print(\"tom expression is\",self.tom_expression)\n",
    "        print(\"base class constructor executed\")\n",
    "class Jerry(Tom):\n",
    "    def __init__(self,jerry_time,jerry_expression,tom_time,tom_expression):\n",
    "            self.jerry_time=jerry_time\n",
    "            self.jerry_expression=jerry_expression\n",
    "            super().__init__(tom_time,tom_expression)\n",
    "    def Jerry_telecast(self):\n",
    "            print(\"jerry timing is\",self.jerry_time)\n",
    "            print(\"jerry expression is\",self.jerry_expression)\n",
    "            print(\"derived class constructor executed\")"
   ]
  },
  {
   "cell_type": "code",
   "execution_count": 6,
   "metadata": {},
   "outputs": [
    {
     "name": "stdout",
     "output_type": "stream",
     "text": [
      "tom timing is 3pm\n",
      "tom expression is happy\n",
      "base class constructor executed\n",
      "jerry timing is 2pm\n",
      "jerry expression is sad\n",
      "derived class constructor executed\n"
     ]
    }
   ],
   "source": [
    "object=Jerry(jerry_time='2pm',jerry_expression='sad',tom_time='3pm',tom_expression='happy')\n",
    "object.Tom_telecast()\n",
    "object.Jerry_telecast()"
   ]
  },
  {
   "cell_type": "code",
   "execution_count": 12,
   "metadata": {},
   "outputs": [],
   "source": [
    "class Expression:\n",
    "    def __init__(self,expression_type,expression_time):\n",
    "       self.expression_type=expression_type\n",
    "       self.expression_time=expression_time\n",
    "    def Expression_call(self):\n",
    "        print(self.expression_type)\n",
    "        print(self.expression_time)\n",
    "        print(\"base class constructor\")\n",
    "    def Display(self):\n",
    "        print(\"im happy\")\n",
    "class Happy(Expression):\n",
    "    def __init__(self,happy_type,happy_time,expression_type,expression_time):\n",
    "        self.happy_type=happy_type\n",
    "        self.happy_time=happy_time\n",
    "        super().__init__(expression_type,expression_time)\n",
    "    def Happy_call(self):\n",
    "        print(self.happy_type)\n",
    "        print(self.happy_time)\n",
    "        print(\"derived class constructor\")\n",
    "    def Display(self):\n",
    "        \n",
    "        print(\"im sad\")"
   ]
  },
  {
   "cell_type": "code",
   "execution_count": 15,
   "metadata": {},
   "outputs": [
    {
     "name": "stdout",
     "output_type": "stream",
     "text": [
      "sad\n",
      "3min\n",
      "base class constructor\n",
      "low\n",
      "2min\n",
      "derived class constructor\n",
      "im sad\n"
     ]
    }
   ],
   "source": [
    "object=Happy(happy_type='low',happy_time='2min',expression_type='sad',expression_time='3min')\n",
    "object.Expression_call()\n",
    "object.Happy_call()\n",
    "object.Display()"
   ]
  },
  {
   "cell_type": "code",
   "execution_count": null,
   "metadata": {},
   "outputs": [],
   "source": [
    "string1=input(\"enter your first string\")\n",
    "string2=input(\"enter the second string\")\n"
   ]
  }
 ],
 "metadata": {
  "kernelspec": {
   "display_name": "Python 3",
   "language": "python",
   "name": "python3"
  },
  "language_info": {
   "codemirror_mode": {
    "name": "ipython",
    "version": 3
   },
   "file_extension": ".py",
   "mimetype": "text/x-python",
   "name": "python",
   "nbconvert_exporter": "python",
   "pygments_lexer": "ipython3",
   "version": "3.12.4"
  }
 },
 "nbformat": 4,
 "nbformat_minor": 2
}
