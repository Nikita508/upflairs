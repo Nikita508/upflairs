{
 "cells": [
  {
   "cell_type": "markdown",
   "metadata": {},
   "source": [
    "flask is a web framework \n",
    "framework=there are multiple functions,methods and classes are predefined "
   ]
  },
  {
   "cell_type": "markdown",
   "metadata": {},
   "source": [
    "backend code=app.py\n",
    "templates contain multiple HTML files\n"
   ]
  },
  {
   "cell_type": "code",
   "execution_count": null,
   "metadata": {},
   "outputs": [],
   "source": []
  }
 ],
 "metadata": {
  "language_info": {
   "name": "python"
  }
 },
 "nbformat": 4,
 "nbformat_minor": 2
}
