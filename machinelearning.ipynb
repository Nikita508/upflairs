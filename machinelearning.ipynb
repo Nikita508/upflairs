{
 "cells": [
  {
   "cell_type": "code",
   "execution_count": null,
   "metadata": {},
   "outputs": [],
   "source": []
  },
  {
   "cell_type": "markdown",
   "metadata": {},
   "source": [
    "types of machine learning==3\n",
    "1.Supervised learning\n",
    "1.1 classification and regression\n",
    "1.2 thereare two variables X and Y \n",
    "X==independent or feature\n",
    "Y==Label,dependent,target\n",
    "Y==single\n",
    "X=multiple\n",
    "based on x data supervised algorithm find out value of y\n",
    "\n"
   ]
  },
  {
   "cell_type": "code",
   "execution_count": null,
   "metadata": {},
   "outputs": [],
   "source": [
    "df="
   ]
  }
 ],
 "metadata": {
  "language_info": {
   "name": "python"
  }
 },
 "nbformat": 4,
 "nbformat_minor": 2
}
