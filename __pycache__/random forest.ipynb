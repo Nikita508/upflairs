{
 "cells": [
  {
   "cell_type": "code",
   "execution_count": null,
   "metadata": {},
   "outputs": [],
   "source": []
  },
  {
   "cell_type": "markdown",
   "metadata": {},
   "source": [
    "Random forest algorithm\n",
    "ensemble learning technique algo,\n",
    "ensemble learning techniques tells that rather then training single decision tree one should try multiple algorithms train altogether,based on the multiple\n",
    " algorithm random forest tree train 100 decision tree and internally 100 decision tree will make.\n",
    "random forest algorithm used majority voting ,\n",
    "random forest tree generate many many decision trees and then give prediction\n",
    "regression problem statement== avg is calculated of all prediction trees to give final prediction\n",
    "classification problem statement-voting performed and majority choosen\n",
    "supervised learning\n",
    "classification+classfication\n"
   ]
  }
 ],
 "metadata": {
  "language_info": {
   "name": "python"
  }
 },
 "nbformat": 4,
 "nbformat_minor": 2
}
